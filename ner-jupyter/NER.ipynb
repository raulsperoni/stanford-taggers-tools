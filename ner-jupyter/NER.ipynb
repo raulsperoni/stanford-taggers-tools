{
 "cells": [
  {
   "cell_type": "code",
   "execution_count": 1,
   "metadata": {
    "collapsed": false
   },
   "outputs": [
    {
     "data": {
      "text/plain": [
       "'3.1'"
      ]
     },
     "execution_count": 1,
     "metadata": {},
     "output_type": "execute_result"
    }
   ],
   "source": [
    "import nltk,os\n",
    "import requests\n",
    "from libs import Stanford\n",
    "from libs import TweetRepository\n",
    "import pyprind\n",
    "nltk.__version__"
   ]
  },
  {
   "cell_type": "markdown",
   "metadata": {},
   "source": [
    "Se invoca a la API Rest para el control del servidor NER."
   ]
  },
  {
   "cell_type": "code",
   "execution_count": 2,
   "metadata": {
    "collapsed": true
   },
   "outputs": [],
   "source": [
    "baseUrl = 'http://ner-server:5000'"
   ]
  },
  {
   "cell_type": "code",
   "execution_count": 3,
   "metadata": {
    "collapsed": false
   },
   "outputs": [
    {
     "name": "stdout",
     "output_type": "stream",
     "text": [
      "Modelos NER disponibles {\n",
      "  \"models\": [\n",
      "    \"english.muc.7class.distsim.crf.ser.gz\", \n",
      "    \"example.serialized.ncc.ncc.ser.gz\", \n",
      "    \"english.conll.4class.distsim.crf.ser.gz\", \n",
      "    \"spanish.ancora.distsim.s512.crf.ser.gz\", \n",
      "    \"custom-ner-model.ser.gz\", \n",
      "    \"english.all.3class.distsim.crf.ser.gz\"\n",
      "  ]\n",
      "}\n",
      "\n"
     ]
    }
   ],
   "source": [
    "url = baseUrl + '/ner/models'\n",
    "response = requests.get(url)\n",
    "print 'Modelos NER disponibles',response.content"
   ]
  },
  {
   "cell_type": "code",
   "execution_count": 4,
   "metadata": {
    "collapsed": false
   },
   "outputs": [
    {
     "name": "stdout",
     "output_type": "stream",
     "text": [
      "Iniciar {\n",
      "  \"host\": \"172.17.0.2\", \n",
      "  \"message\": \"Iniciando Stanford NER server\", \n",
      "  \"model\": \"/stanford/stanford-ner-2015-04-20/classifiers/spanish.ancora.distsim.s512.crf.ser.gz\", \n",
      "  \"port\": \"9191\"\n",
      "}\n",
      "\n"
     ]
    }
   ],
   "source": [
    "url = baseUrl + '/ner/start/spanish.ancora.distsim.s512.crf.ser.gz'\n",
    "response = requests.get(url)\n",
    "print 'Iniciar',response.content"
   ]
  },
  {
   "cell_type": "code",
   "execution_count": 5,
   "metadata": {
    "collapsed": false
   },
   "outputs": [
    {
     "name": "stdout",
     "output_type": "stream",
     "text": [
      "Status NER {\n",
      "  \"status\": \"ON\"\n",
      "}\n",
      "\n"
     ]
    }
   ],
   "source": [
    "url = baseUrl + '/ner/status'\n",
    "response = requests.get(url)\n",
    "print 'Status NER',response.content"
   ]
  },
  {
   "cell_type": "code",
   "execution_count": 6,
   "metadata": {
    "collapsed": false
   },
   "outputs": [
    {
     "name": "stdout",
     "output_type": "stream",
     "text": [
      "Iniciar POS {\n",
      "  \"host\": \"172.17.0.2\", \n",
      "  \"message\": \"Iniciando Stanford POS server\", \n",
      "  \"model\": \"/stanford/stanford-postagger-full-2015-12-09/models/spanish.tagger\", \n",
      "  \"port\": \"9190\"\n",
      "}\n",
      "\n"
     ]
    }
   ],
   "source": [
    "url = baseUrl + '/pos/start'\n",
    "response = requests.get(url)\n",
    "print 'Iniciar POS',response.content"
   ]
  },
  {
   "cell_type": "code",
   "execution_count": 7,
   "metadata": {
    "collapsed": false
   },
   "outputs": [
    {
     "name": "stdout",
     "output_type": "stream",
     "text": [
      "Status POS {\n",
      "  \"status\": \"ON\"\n",
      "}\n",
      "\n"
     ]
    }
   ],
   "source": [
    "url = baseUrl + '/pos/status'\n",
    "response = requests.get(url)\n",
    "print 'Status POS',response.content"
   ]
  },
  {
   "cell_type": "markdown",
   "metadata": {},
   "source": [
    "Se invoca el cliente para la comunicación con el servidor NER a travez de Sockets.\n",
    "Se invoca el cliente para la comunicación con la colección de tweets-"
   ]
  },
  {
   "cell_type": "code",
   "execution_count": null,
   "metadata": {
    "collapsed": false
   },
   "outputs": [],
   "source": [
    "stanford_client = Stanford(baseUrl.split('//')[1].split(':')[0])\n",
    "repositorio_tweets = TweetRepository.TweetRepository('imported-tweets-ner')"
   ]
  },
  {
   "cell_type": "markdown",
   "metadata": {},
   "source": [
    "Usando el POS Tagger y el NER tagger, se le asigna a cada palabra una clase candidata. Se asigna LABEL cuando es un nombre propio que no se puede clasificar."
   ]
  },
  {
   "cell_type": "code",
   "execution_count": null,
   "metadata": {
    "collapsed": false
   },
   "outputs": [],
   "source": [
    "todos = repositorio_tweets.getAll()\n",
    "bar = pyprind.ProgBar(len(todos))\n",
    "palabras_anotadas = []\n",
    "for tweet in todos:\n",
    "    for par in stanford_client.entities(tweet['text']):\n",
    "        #Tengo que anexar el id para despues\n",
    "        l = list(par)\n",
    "        l.insert(2,tweet['_id'])\n",
    "        t = tuple(l)\n",
    "        palabras_anotadas.append(t)\n",
    "    bar.update()"
   ]
  },
  {
   "cell_type": "code",
   "execution_count": null,
   "metadata": {
    "collapsed": false
   },
   "outputs": [],
   "source": [
    "print 'Cantidad de palabras:',len(palabras_anotadas)"
   ]
  },
  {
   "cell_type": "markdown",
   "metadata": {},
   "source": [
    "Usando listas de calles y ubicaciones conocidas de la ciudad se buscan las LABEL que aparezcan en las listas y se sustituye la etiqueta."
   ]
  },
  {
   "cell_type": "code",
   "execution_count": null,
   "metadata": {
    "collapsed": false
   },
   "outputs": [],
   "source": [
    "dicc_loc = stanford_client.loadStreetNames('v_mdg_nombres_vias_mvd.txt')"
   ]
  },
  {
   "cell_type": "code",
   "execution_count": null,
   "metadata": {
    "collapsed": false
   },
   "outputs": [],
   "source": [
    "dicc_loc = stanford_client.loadGeoPlaces('UY.txt',dicc_loc)"
   ]
  },
  {
   "cell_type": "code",
   "execution_count": null,
   "metadata": {
    "collapsed": false
   },
   "outputs": [],
   "source": [
    "palabras_anotadas_mejoradas = stanford_client.replaceLabelsUsingLists(palabras_anotadas,dicc_loc)"
   ]
  },
  {
   "cell_type": "markdown",
   "metadata": {},
   "source": [
    "Se actualizan en la base los tweets con las entidades."
   ]
  },
  {
   "cell_type": "code",
   "execution_count": null,
   "metadata": {
    "collapsed": false
   },
   "outputs": [],
   "source": [
    "tweets_modificados = repositorio_tweets.updateTweetsWithEntities(palabras_anotadas_mejoradas)"
   ]
  },
  {
   "cell_type": "code",
   "execution_count": null,
   "metadata": {
    "collapsed": false
   },
   "outputs": [],
   "source": [
    "import pprint\n",
    "for t in tweets_modificados:\n",
    "    if len(t['entities'].keys()) > 5:\n",
    "        print '_'\n",
    "        for e in t['entities']:\n",
    "            if e in ['PERS','LUG','ORG','OTROS']:\n",
    "                print t['entities'][e]"
   ]
  },
  {
   "cell_type": "markdown",
   "metadata": {},
   "source": [
    "Se generan los archivos de train y test para NER usando lo generado antes"
   ]
  },
  {
   "cell_type": "code",
   "execution_count": null,
   "metadata": {
    "collapsed": true
   },
   "outputs": [],
   "source": [
    "stanford_client.generateTrainAndTestFile(palabras_anotadas_mejoradas,'prueba_train.tsv','prueba_test.tsv',1)"
   ]
  },
  {
   "cell_type": "markdown",
   "metadata": {},
   "source": [
    "Se transfiere el archivo usando la API"
   ]
  },
  {
   "cell_type": "code",
   "execution_count": null,
   "metadata": {
    "collapsed": false
   },
   "outputs": [],
   "source": [
    "url = baseUrl + '/ner/train'\n",
    "files = {'file': open('prueba_train.tsv')}\n",
    "response = requests.post(url, files=files)\n",
    "print response.content"
   ]
  },
  {
   "cell_type": "markdown",
   "metadata": {},
   "source": [
    "Se entrena el modelo"
   ]
  },
  {
   "cell_type": "code",
   "execution_count": null,
   "metadata": {
    "collapsed": false
   },
   "outputs": [],
   "source": [
    "url = baseUrl + '/ner/train'\n",
    "response = requests.get(url)"
   ]
  },
  {
   "cell_type": "code",
   "execution_count": null,
   "metadata": {
    "collapsed": false
   },
   "outputs": [],
   "source": [
    "print 'Salida',response.content[1]"
   ]
  },
  {
   "cell_type": "code",
   "execution_count": null,
   "metadata": {
    "collapsed": false
   },
   "outputs": [],
   "source": [
    "url = baseUrl + '/ner/models'\n",
    "response = requests.get(url)\n",
    "print response.content"
   ]
  },
  {
   "cell_type": "code",
   "execution_count": null,
   "metadata": {
    "collapsed": true
   },
   "outputs": [],
   "source": []
  }
 ],
 "metadata": {
  "kernelspec": {
   "display_name": "Python 2",
   "language": "python",
   "name": "python2"
  },
  "language_info": {
   "codemirror_mode": {
    "name": "ipython",
    "version": 2
   },
   "file_extension": ".py",
   "mimetype": "text/x-python",
   "name": "python",
   "nbconvert_exporter": "python",
   "pygments_lexer": "ipython2",
   "version": "2.7.6"
  }
 },
 "nbformat": 4,
 "nbformat_minor": 0
}
