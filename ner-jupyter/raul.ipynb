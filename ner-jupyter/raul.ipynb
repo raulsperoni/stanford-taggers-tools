{
 "cells": [
  {
   "cell_type": "code",
   "execution_count": 1,
   "metadata": {
    "collapsed": false
   },
   "outputs": [],
   "source": [
    "import os\n",
    "from libs import TweetRepository\n",
    "from pymongo import MongoClient\n",
    "dbdb = os.getenv('MONGO_DATABASE',None)\n",
    "dbhost = os.getenv('MONGO_HOST',None)\n",
    "dbport = os.getenv('MONGO_PORT',None)\n",
    "dbuser = os.getenv('MONGO_USER',None)\n",
    "dbpass = os.getenv('MONGO_PASS',None)\n",
    "dbcoll = os.getenv('MONGO_COLL',None)"
   ]
  },
  {
   "cell_type": "code",
   "execution_count": 2,
   "metadata": {
    "collapsed": false
   },
   "outputs": [],
   "source": [
    "tws = TweetRepository.TweetRepository(dbcoll,dbhost,dbuser,dbpass,dbport)"
   ]
  },
  {
   "cell_type": "code",
   "execution_count": null,
   "metadata": {
    "collapsed": true
   },
   "outputs": [],
   "source": [
    "otherClient = MongoClient('mongodb://'+dbuser+':'+dbpass+'@'+dbhost+':'+dbport+'/'+dbdb)\n",
    "krypton_db = otherClient[dbdb]\n",
    "runs = krypton_db[dbcoll]"
   ]
  },
  {
   "cell_type": "code",
   "execution_count": null,
   "metadata": {
    "collapsed": false
   },
   "outputs": [],
   "source": [
    "for r in runs.find():\n",
    "    print r[u'inserts'],r[u'delay'],r[u'now']\n",
    "    print r[u'search']\n",
    "    print"
   ]
  },
  {
   "cell_type": "code",
   "execution_count": null,
   "metadata": {
    "collapsed": false
   },
   "outputs": [],
   "source": [
    "runs.delete_many({})"
   ]
  },
  {
   "cell_type": "code",
   "execution_count": null,
   "metadata": {
    "collapsed": false
   },
   "outputs": [],
   "source": [
    "print list(runs.find({\"ner_classified\": False}))"
   ]
  },
  {
   "cell_type": "code",
   "execution_count": null,
   "metadata": {
    "collapsed": false
   },
   "outputs": [],
   "source": [
    "help(tws)"
   ]
  },
  {
   "cell_type": "code",
   "execution_count": null,
   "metadata": {
    "collapsed": false
   },
   "outputs": [],
   "source": [
    "from libs.utils import simplifyText,getTokens"
   ]
  },
  {
   "cell_type": "code",
   "execution_count": null,
   "metadata": {
    "collapsed": false
   },
   "outputs": [],
   "source": [
    "print tws.getEntities(u'#ElDato Junior jugara esta noche en Montevideo su partido No. 15 en su historica participacion en #CopaSudamericana Acumula 8 victorias.')"
   ]
  },
  {
   "cell_type": "code",
   "execution_count": 6,
   "metadata": {
    "collapsed": false
   },
   "outputs": [
    {
     "name": "stdout",
     "output_type": "stream",
     "text": [
      "{u'origin': u'TWEET', u'origin_id': 779060115437678592L, u'tw_user': {u'name': u'JR', u'profile_image_url': u'http://pbs.twimg.com/profile_images/1337563979/sosa_normal.jpg', u'screen_name': u'sosita_1'}, u'text': u'#Licenciado - el \"doctor\" Mujica ?no podra conseguirle un titulo a Raulito?\\n\\nhttps://t.co/IWK05csjtX', u'created_at': u'Thu Sep 22 20:49:40 +0000 2016', u'tw_entities': {u'symbols': [], u'user_mentions': [], u'hashtags': [{u'indices': [0, 11], u'text': u'Licenciado'}], u'urls': [{u'url': u'https://t.co/IWK05csjtX', u'indices': [77, 100], u'expanded_url': u'http://www.montevideo.com.uy/contenido/Mujica-recibira-un-doctorado-honoris-causa-en-Santo-Domingo-321120', u'display_url': u'montevideo.com.uy/contenido/Muji\\u2026'}]}, u'ner_classified': False, u'imported_at': datetime.datetime(2016, 9, 22, 21, 7, 29, 421000), u'krypton_classified': False, u'_id': ObjectId('57e44811bd24280001a3890e'), u'ner_entities': []}\n"
     ]
    }
   ],
   "source": [
    "print tws.getRandomOne(\"ner_classified\",False)"
   ]
  },
  {
   "cell_type": "code",
   "execution_count": 3,
   "metadata": {
    "collapsed": false
   },
   "outputs": [
    {
     "name": "stdout",
     "output_type": "stream",
     "text": [
      "[{'class': 'Ninguno', 'entity': 'Montevideo'}, {'class': 'Ninguno', 'entity': 'a'}, {'class': 'Ninguno', 'entity': 'veces'}, {'class': 'Ninguno', 'entity': 'te'}, {'class': 'Ninguno', 'entity': 'odio'}, {'class': 'Ninguno', 'entity': 'httpstcoSLzaN73bhr'}]\n"
     ]
    }
   ],
   "source": [
    "data = tws.getRandomOne(\"ner_classified\",False)\n",
    "print tws.getEntities(data[\"text\"])"
   ]
  },
  {
   "cell_type": "code",
   "execution_count": 3,
   "metadata": {
    "collapsed": false
   },
   "outputs": [
    {
     "name": "stdout",
     "output_type": "stream",
     "text": [
      "{'krypton_classified': 0, 'total': 790, 'ner_classified': 109}\n"
     ]
    }
   ],
   "source": [
    "print tws.getInfo()"
   ]
  },
  {
   "cell_type": "code",
   "execution_count": null,
   "metadata": {
    "collapsed": true
   },
   "outputs": [],
   "source": []
  }
 ],
 "metadata": {
  "kernelspec": {
   "display_name": "Python 2",
   "language": "python",
   "name": "python2"
  },
  "language_info": {
   "codemirror_mode": {
    "name": "ipython",
    "version": 2
   },
   "file_extension": ".py",
   "mimetype": "text/x-python",
   "name": "python",
   "nbconvert_exporter": "python",
   "pygments_lexer": "ipython2",
   "version": "2.7.6"
  }
 },
 "nbformat": 4,
 "nbformat_minor": 0
}
