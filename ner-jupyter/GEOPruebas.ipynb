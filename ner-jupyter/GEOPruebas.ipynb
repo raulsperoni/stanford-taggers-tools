{
 "cells": [
  {
   "cell_type": "code",
   "execution_count": 2,
   "metadata": {
    "collapsed": false
   },
   "outputs": [
    {
     "data": {
      "text/plain": [
       "'3.1'"
      ]
     },
     "execution_count": 2,
     "metadata": {},
     "output_type": "execute_result"
    }
   ],
   "source": [
    "import nltk,os\n",
    "import requests\n",
    "from libs import Stanford\n",
    "from libs import TweetRepository\n",
    "import pyprind\n",
    "nltk.__version__"
   ]
  },
  {
   "cell_type": "markdown",
   "metadata": {},
   "source": [
    "Se invoca a la API Rest para el control del servidor NER."
   ]
  },
  {
   "cell_type": "code",
   "execution_count": 3,
   "metadata": {
    "collapsed": true
   },
   "outputs": [],
   "source": [
    "baseUrl = 'http://ner-server:5000'"
   ]
  },
  {
   "cell_type": "code",
   "execution_count": 4,
   "metadata": {
    "collapsed": false
   },
   "outputs": [
    {
     "name": "stdout",
     "output_type": "stream",
     "text": [
      "Modelos NER disponibles {\n",
      "  \"models\": [\n",
      "    \"english.muc.7class.distsim.crf.ser.gz\", \n",
      "    \"example.serialized.ncc.ncc.ser.gz\", \n",
      "    \"english.conll.4class.distsim.crf.ser.gz\", \n",
      "    \"spanish.ancora.distsim.s512.crf.ser.gz\", \n",
      "    \"custom-ner-model.ser.gz\", \n",
      "    \"english.all.3class.distsim.crf.ser.gz\"\n",
      "  ]\n",
      "}\n",
      "\n"
     ]
    }
   ],
   "source": [
    "url = baseUrl + '/ner/models'\n",
    "response = requests.get(url)\n",
    "print 'Modelos NER disponibles',response.content"
   ]
  },
  {
   "cell_type": "code",
   "execution_count": 5,
   "metadata": {
    "collapsed": false
   },
   "outputs": [
    {
     "name": "stdout",
     "output_type": "stream",
     "text": [
      "Iniciar {\n",
      "  \"message\": \"Esta iniciado\"\n",
      "}\n",
      "\n"
     ]
    }
   ],
   "source": [
    "url = baseUrl + '/ner/start/spanish.ancora.distsim.s512.crf.ser.gz'\n",
    "response = requests.get(url)\n",
    "print 'Iniciar',response.content"
   ]
  },
  {
   "cell_type": "code",
   "execution_count": 6,
   "metadata": {
    "collapsed": false
   },
   "outputs": [
    {
     "name": "stdout",
     "output_type": "stream",
     "text": [
      "Status NER {\n",
      "  \"status\": \"ON\"\n",
      "}\n",
      "\n"
     ]
    }
   ],
   "source": [
    "url = baseUrl + '/ner/status'\n",
    "response = requests.get(url)\n",
    "print 'Status NER',response.content"
   ]
  },
  {
   "cell_type": "code",
   "execution_count": 7,
   "metadata": {
    "collapsed": false
   },
   "outputs": [
    {
     "name": "stdout",
     "output_type": "stream",
     "text": [
      "Iniciar POS {\n",
      "  \"message\": \"Esta iniciado\"\n",
      "}\n",
      "\n"
     ]
    }
   ],
   "source": [
    "url = baseUrl + '/pos/start'\n",
    "response = requests.get(url)\n",
    "print 'Iniciar POS',response.content"
   ]
  },
  {
   "cell_type": "code",
   "execution_count": 8,
   "metadata": {
    "collapsed": false
   },
   "outputs": [
    {
     "name": "stdout",
     "output_type": "stream",
     "text": [
      "Status POS {\n",
      "  \"status\": \"ON\"\n",
      "}\n",
      "\n"
     ]
    }
   ],
   "source": [
    "url = baseUrl + '/pos/status'\n",
    "response = requests.get(url)\n",
    "print 'Status POS',response.content"
   ]
  },
  {
   "cell_type": "markdown",
   "metadata": {},
   "source": [
    "Se invoca el cliente para la comunicación con el servidor NER a travez de Sockets.\n",
    "Se invoca el cliente para la comunicación con la colección de tweets-"
   ]
  },
  {
   "cell_type": "code",
   "execution_count": 9,
   "metadata": {
    "collapsed": false
   },
   "outputs": [],
   "source": [
    "stanford_client = Stanford.Stanford(baseUrl.split('//')[1].split(':')[0])\n",
    "dbdb = os.getenv('MONGO_DATABASE',None)\n",
    "dbhost = os.getenv('MONGO_HOST',None)\n",
    "dbport = os.getenv('MONGO_PORT',None)\n",
    "dbuser = os.getenv('MONGO_USER',None)\n",
    "dbpass = os.getenv('MONGO_PASS',None)\n",
    "dbcoll = \"krypton-imported-data\"#os.getenv('MONGO_COLL',None)\n",
    "tws = TweetRepository.TweetRepository(dbcoll,dbhost,dbuser,dbpass,dbport,dbdb)"
   ]
  },
  {
   "cell_type": "code",
   "execution_count": 10,
   "metadata": {
    "collapsed": false
   },
   "outputs": [],
   "source": [
    "import json\n",
    "import urllib\n",
    "import urllib2\n",
    "\n",
    "def searchStreetsFromName(nombre_via):\n",
    "    calles = []\n",
    "    r = urllib2.urlopen('http://www.montevideo.gub.uy/ubicacionesRest/calles/?nombre='+nombre_via)\n",
    "    web_pg = r.read()\n",
    "    j = json.loads(web_pg)\n",
    "    for vias in j:\n",
    "        calles.append(vias)\n",
    "    return calles\n",
    "def searchIntersection(street_code_1,street_code_2):\n",
    "    try:\n",
    "        r = urllib2.urlopen('http://www.montevideo.gub.uy/ubicacionesRest/esquina/'+str(street_code_1)+'/'+str(street_code_2))\n",
    "        web_pg = r.read()\n",
    "        j = json.loads(web_pg)\n",
    "        return j\n",
    "    except urllib2.HTTPError, e:\n",
    "        return None"
   ]
  },
  {
   "cell_type": "code",
   "execution_count": 11,
   "metadata": {
    "collapsed": false
   },
   "outputs": [],
   "source": [
    "def searchPossibleLocations(data):\n",
    "    sets_of_streets = {}\n",
    "    for noun in stanford_client.nouns(data['text']):\n",
    "        streets = []\n",
    "        for street in searchStreetsFromName(noun):\n",
    "            streets.append(street)\n",
    "        sets_of_streets[noun] = streets\n",
    "    #Damn\n",
    "    possible_locations = []\n",
    "    alredy_searched = {}\n",
    "    for noun_i in sets_of_streets.keys():\n",
    "        go_with_these_nouns = True\n",
    "        for noun_j in sets_of_streets.keys():\n",
    "            streets_i = sets_of_streets[noun_i]\n",
    "            streets_j = sets_of_streets[noun_j]\n",
    "            for street_i in streets_i:\n",
    "                for street_j in streets_j:\n",
    "                    str_code_i = street_i['codigo']\n",
    "                    str_code_j = street_j['codigo']\n",
    "                    if str_code_i != str_code_j:\n",
    "                        if not alredy_searched.get(str(str_code_i)+str(str_code_j),None):\n",
    "                            if not alredy_searched.get(str(str_code_j)+str(str_code_i),None):\n",
    "                                intersection = searchIntersection(str_code_i,str_code_j)\n",
    "                                alredy_searched[str(str_code_i)+str(str_code_j)] = True\n",
    "                                alredy_searched[str(str_code_j)+str(str_code_i)] = True\n",
    "                                if intersection:\n",
    "                                    possible_locations.append((street_i,street_j,intersection))\n",
    "                                    go_with_these_nouns = False\n",
    "                                    break\n",
    "                                    #print intersection\n",
    "                if not go_with_these_nouns:\n",
    "                    break\n",
    "            if not go_with_these_nouns:\n",
    "                    break\n",
    "    return possible_locations"
   ]
  },
  {
   "cell_type": "code",
   "execution_count": 12,
   "metadata": {
    "collapsed": true
   },
   "outputs": [],
   "source": [
    "from pyproj import Proj, transform\n",
    "def transformCoordinates(x,y):\n",
    "    #Sistema de la IM\n",
    "    inProj = Proj(init='epsg:32721')\n",
    "    outProj = Proj(init='epsg:4326')\n",
    "    x2,y2 = transform(inProj,outProj,x,y)\n",
    "    return (x2,y2)"
   ]
  },
  {
   "cell_type": "markdown",
   "metadata": {},
   "source": [
    "Usando el POS Tagger y el NER tagger, se le asigna a cada palabra una clase candidata. Se asigna LABEL cuando es un nombre propio que no se puede clasificar."
   ]
  },
  {
   "cell_type": "code",
   "execution_count": 14,
   "metadata": {
    "collapsed": false
   },
   "outputs": [
    {
     "name": "stderr",
     "output_type": "stream",
     "text": [
      "0%  100%\n",
      "[   ]"
     ]
    },
    {
     "name": "stdout",
     "output_type": "stream",
     "text": [
      "@quejasya @montevideoIM @Dmartinez_uy Acevedo Diaz y Palmar #limpieza #basura https://t.co/pJWjZ3dP8P\n",
      "ACEVEDO DIAZ PSJE DE LA VIA (ACEVEDO DIAZ)\n",
      "(-56.16771485186318, -34.89153315524597)\n",
      "21 DE SETIEMBRE ACEVEDO DIAZ\n",
      "(-56.165581829650996, -34.911274652843)\n",
      "PALMAR ACEVEDO DIAZ\n",
      "(-56.16668616389682, -34.90107706324848)\n",
      "ABIPONES ANDRES LERENA ACEVEDO\n",
      "(-56.113422351932044, -34.83204266065045)\n",
      "ACEVEDO DIAZ ANA MONTERROSO DE LAVALLEJA\n",
      "(-56.166803061545814, -34.90001762545476)\n",
      "Urquiza y Berro @quejasya \n",
      "Contenedores hermeticos ya!!! https://t.co/06XnvkNIzO\n",
      "ADOLFO BERRO"
     ]
    },
    {
     "name": "stderr",
     "output_type": "stream",
     "text": [
      "[## ] | ETA: 00:04:44"
     ]
    },
    {
     "name": "stdout",
     "output_type": "stream",
     "text": [
      " PSJE PNAL (ADOLFO BERRO Y LUCAS OBES)\n",
      "(-56.207395074976, -34.864005489676906)\n",
      "GRAL URQUIZA PTE BERRO\n",
      "(-56.16324780747015, -34.89139171117354)\n"
     ]
    }
   ],
   "source": [
    "#A partir de data de la BD, (deberia tener una bandera geo-tagged = false)\n",
    "todos = tws.findData({\"krypton_category\":\"MUY_UTIL\"})\n",
    "bar = pyprind.ProgBar(len(todos))\n",
    "palabras_anotadas = []\n",
    "for data in todos[1:4]:\n",
    "    print data['text']\n",
    "    #Uso ner para quedarme con los nouns ?\n",
    "    for loc in searchPossibleLocations(data):\n",
    "        print loc[0][u'nombre'],loc[1][u'nombre']\n",
    "        print transformCoordinates(loc[2][u'geoJSON'][u'coordinates'][0],loc[2][u'geoJSON'][u'coordinates'][1])\n",
    "    bar.update()"
   ]
  },
  {
   "cell_type": "code",
   "execution_count": null,
   "metadata": {
    "collapsed": false
   },
   "outputs": [],
   "source": [
    "from pyproj import Proj, transform\n",
    "inProj = Proj(init='epsg:32721')\n",
    "outProj = Proj(init='epsg:4326')\n",
    "x1,y1 = 579813.2135, 6142453.9517\n",
    "x2,y2 = transform(inProj,outProj,x1,y1)\n",
    "print x2,y2"
   ]
  },
  {
   "cell_type": "markdown",
   "metadata": {
    "collapsed": true
   },
   "source": [
    "##Cargar datos de calles en mongo local"
   ]
  },
  {
   "cell_type": "code",
   "execution_count": 37,
   "metadata": {
    "collapsed": false
   },
   "outputs": [],
   "source": [
    "from pymongo import MongoClient\n",
    "from pymongo import ASCENDING\n",
    "dbdb = 'krypton'\n",
    "dbhost = 'ner-mongo'\n",
    "dbuser = 'krypton'\n",
    "dbpass = 'krypton_pass'\n",
    "otherClient = MongoClient('mongodb://'+dbhost+'/'+dbdb)\n",
    "krypton_db = otherClient[dbdb]\n",
    "v_mdg_vias = krypton_db['v-mdg-vias']\n",
    "sig_cruces_vias = krypton_db['sig-cruces-vias']"
   ]
  },
  {
   "cell_type": "code",
   "execution_count": 38,
   "metadata": {
    "collapsed": false
   },
   "outputs": [
    {
     "data": {
      "text/plain": [
       "u'properties.COD_NOMBRE_1_properties.COD_NOM_01_1'"
      ]
     },
     "execution_count": 38,
     "metadata": {},
     "output_type": "execute_result"
    }
   ],
   "source": [
    "v_mdg_vias.drop_indexes()\n",
    "v_mdg_vias.create_index([('properties.NOM_CALLE', 'text')], default_language='spanish')\n",
    "sig_cruces_vias.drop_indexes()\n",
    "sig_cruces_vias.create_index([('properties.COD_NOMBRE',ASCENDING),('properties.COD_NOM_01',ASCENDING)])"
   ]
  },
  {
   "cell_type": "code",
   "execution_count": 43,
   "metadata": {
    "collapsed": false
   },
   "outputs": [],
   "source": [
    "def findStreets(text):\n",
    "    return list(v_mdg_vias.find( { '$text': { '$search': text } }))"
   ]
  },
  {
   "cell_type": "code",
   "execution_count": 45,
   "metadata": {
    "collapsed": true
   },
   "outputs": [],
   "source": [
    "def findIntersection(street_code_1, street_code_2):\n",
    "    return list(sig_cruces_vias.find( { 'properties.COD_NOMBRE': street_code_1,  'properties.COD_NOM_01': street_code_2 }))"
   ]
  },
  {
   "cell_type": "code",
   "execution_count": 30,
   "metadata": {
    "collapsed": false
   },
   "outputs": [
    {
     "name": "stdout",
     "output_type": "stream",
     "text": [
      "DR JUSTO MONTES PAREJA 4553.0\n",
      "DR JUSTO MONTES PAREJA 4553.0\n",
      "DR JUSTO MONTES PAREJA 4553.0\n",
      "DR JUSTO MONTES PAREJA 4553.0\n",
      "DR JUSTO MONTES PAREJA 4553.0\n",
      "DR JUSTO MONTES PAREJA 4553.0\n",
      "DR JUSTO MONTES PAREJA 4553.0\n",
      "DR JUSTO MONTES PAREJA 4553.0\n",
      "DR JUSTO MONTES PAREJA 4553.0\n",
      "DR JUSTO MONTES PAREJA 4553.0\n",
      "CNO MONTE SOSA 4555.0\n",
      "CNO REY DEL MONTE 5956.0\n",
      "CNO REY DEL MONTE 5956.0\n",
      "CNO REY DEL MONTE 5956.0\n",
      "CNO REY DEL MONTE 5956.0\n",
      "CNO MONTE SOSA 4555.0\n",
      "CNO REY DEL MONTE 5956.0\n",
      "CNO REY DEL MONTE 5956.0\n",
      "CNO REY DEL MONTE 5956.0\n",
      "CNO REY DEL MONTE 5956.0\n",
      "CNO MONTE SOSA 4555.0\n",
      "CNO MONTE SOSA 4555.0\n",
      "CNO MONTE SOSA 4555.0\n",
      "CNO REY DEL MONTE 5956.0\n",
      "CNO REY DEL MONTE 5956.0\n",
      "CNO MONTE SOSA 4555.0\n",
      "CNO REY DEL MONTE 5956.0\n",
      "CNO REY DEL MONTE 5956.0\n",
      "CNO MONTE SOSA 4555.0\n",
      "CNO REY DEL MONTE 5956.0\n",
      "GATO MONTES 1385.0\n",
      "ENRIQUE MONTES 4554.0\n",
      "MONTE CASEROS 4536.0\n",
      "MONTE CASEROS 4536.0\n",
      "MONTE CASEROS 4536.0\n",
      "CNO REY DEL MONTE 5956.0\n",
      "MONTE CASEROS 4536.0\n",
      "CNO MONTE SOSA 4555.0\n",
      "GATO MONTES 1385.0\n",
      "GATO MONTES 1385.0\n",
      "MONTE CASEROS 4536.0\n",
      "MONTE CASEROS 4536.0\n",
      "MONTE CASEROS 4536.0\n",
      "MONTE CASEROS 4536.0\n",
      "MONTE CASEROS 4536.0\n",
      "MONTE CASEROS 4536.0\n",
      "MONTE CASEROS 4536.0\n",
      "MONTE CASEROS 4536.0\n",
      "DR JUSTO MONTES PAREJA 4553.0\n",
      "MONTE CASEROS 4536.0\n",
      "MONTE CASEROS 4536.0\n",
      "CNO MONTE SOSA 4555.0\n",
      "CNO REY DEL MONTE 5956.0\n",
      "MONTE CASEROS 4536.0\n",
      "MONTE CASEROS 4536.0\n",
      "DR JUSTO MONTES PAREJA 4553.0\n",
      "MONTE CASEROS 4536.0\n",
      "DR JUSTO MONTES PAREJA 4553.0\n",
      "MONTE CASEROS 4536.0\n",
      "MONTE CASEROS 4536.0\n",
      "MONTE CASEROS 4536.0\n",
      "MONTE CASEROS 4536.0\n",
      "MONTE CASEROS 4536.0\n",
      "MONTE CASEROS 4536.0\n",
      "MONTE CASEROS 4536.0\n",
      "MONTE CASEROS 4536.0\n",
      "MONTE CASEROS 4536.0\n",
      "MONTE CASEROS 4536.0\n",
      "MONTE CASEROS 4536.0\n",
      "MONTE CASEROS 4536.0\n",
      "CNO REY DEL MONTE 5956.0\n",
      "MONTE CASEROS 4536.0\n",
      "MONTE CASEROS 4536.0\n",
      "GATO MONTES 1385.0\n",
      "MONTE CASEROS 4536.0\n",
      "MONTE CASEROS 4536.0\n",
      "GATO MONTES 1385.0\n",
      "MONTE CASEROS 4536.0\n",
      "MONTE CASEROS 4536.0\n",
      "MONTE CASEROS 4536.0\n",
      "DR JUSTO MONTES PAREJA 4553.0\n",
      "MONTE CASEROS 4536.0\n",
      "DR JUSTO MONTES PAREJA 4553.0\n",
      "DR JUSTO MONTES PAREJA 4553.0\n",
      "MONTE CASEROS 4536.0\n",
      "MONTE CASEROS 4536.0\n",
      "MONTE CASEROS 4536.0\n",
      "MONTE CASEROS 4536.0\n",
      "MONTE CASEROS 4536.0\n",
      "GATO MONTES 1385.0\n",
      "DR JUSTO MONTES PAREJA 4553.0\n",
      "MONTE CASEROS 4536.0\n",
      "MONTE CASEROS 4536.0\n",
      "MONTE CASEROS 4536.0\n",
      "MONTE CASEROS 4536.0\n",
      "MONTE CASEROS 4536.0\n",
      "MONTE CASEROS 4536.0\n",
      "CNO MONTE SOSA 4555.0\n",
      "MONTE CASEROS 4536.0\n",
      "MONTE CASEROS 4536.0\n",
      "MONTE CASEROS 4536.0\n",
      "MONTE CASEROS 4536.0\n",
      "MONTE CASEROS 4536.0\n",
      "MONTE CASEROS 4536.0\n",
      "MONTE CASEROS 4536.0\n",
      "MONTE CASEROS 4536.0\n",
      "MONTE CASEROS 4536.0\n",
      "ENRIQUE MONTES 4554.0\n",
      "MONTE CASEROS 4536.0\n",
      "MONTE CASEROS 4536.0\n",
      "MONTE CASEROS 4536.0\n",
      "CNO REY DEL MONTE 5956.0\n",
      "MONTE CASEROS 4536.0\n",
      "DR JUSTO MONTES PAREJA 4553.0\n",
      "DR JUSTO MONTES PAREJA 4553.0\n",
      "MONTE CASEROS 4536.0\n",
      "MONTE CASEROS 4536.0\n",
      "MONTE CASEROS 4536.0\n",
      "MONTE CASEROS 4536.0\n",
      "MONTE CASEROS 4536.0\n",
      "MONTE CASEROS 4536.0\n",
      "MONTE CASEROS 4536.0\n",
      "MONTE CASEROS 4536.0\n",
      "MONTE CASEROS 4536.0\n",
      "MONTE CASEROS 4536.0\n",
      "MONTE CASEROS 4536.0\n",
      "CNO MONTE SOSA 4555.0\n",
      "GATO MONTES 1385.0\n",
      "MONTE CASEROS 4536.0\n",
      "MONTE CASEROS 4536.0\n",
      "MONTE CASEROS 4536.0\n",
      "MONTE CASEROS 4536.0\n",
      "MONTE CASEROS 4536.0\n",
      "MONTE CASEROS 4536.0\n",
      "MONTE CASEROS 4536.0\n",
      "DR JUSTO MONTES PAREJA 4553.0\n",
      "MONTE CASEROS 4536.0\n",
      "MONTE CASEROS 4536.0\n",
      "MONTE CASEROS 4536.0\n",
      "MONTE CASEROS 4536.0\n",
      "MONTE CASEROS 4536.0\n",
      "MONTE CASEROS 4536.0\n",
      "MONTE CASEROS 4536.0\n",
      "MONTE CASEROS 4536.0\n",
      "MONTE CASEROS 4536.0\n",
      "CNO MONTE SOSA 4555.0\n",
      "MONTE CASEROS 4536.0\n",
      "MONTE CASEROS 4536.0\n",
      "MONTE CASEROS 4536.0\n",
      "MONTE CASEROS 4536.0\n",
      "MONTE CASEROS 4536.0\n",
      "MONTE CASEROS 4536.0\n",
      "MONTE CASEROS 4536.0\n",
      "MONTE CASEROS 4536.0\n",
      "MONTE CASEROS 4536.0\n",
      "MONTE CASEROS 4536.0\n",
      "MONTE CASEROS 4536.0\n",
      "MONTE CASEROS 4536.0\n",
      "MONTE CASEROS 4536.0\n",
      "MONTE CASEROS 4536.0\n",
      "MONTE CASEROS 4536.0\n",
      "MONTE CASEROS 4536.0\n",
      "MONTE CASEROS 4536.0\n",
      "MONTE CASEROS 4536.0\n",
      "DR JUSTO MONTES PAREJA 4553.0\n",
      "CNO REY DEL MONTE 5956.0\n",
      "MONTE CASEROS 4536.0\n",
      "GATO MONTES 1385.0\n",
      "MONTE CASEROS 4536.0\n",
      "MONTE CASEROS 4536.0\n",
      "MONTE CASEROS 4536.0\n",
      "MONTE CASEROS 4536.0\n",
      "DR JUSTO MONTES PAREJA 4553.0\n",
      "MONTE CASEROS 4536.0\n",
      "MONTE CASEROS 4536.0\n",
      "DR JUSTO MONTES PAREJA 4553.0\n",
      "MONTE CASEROS 4536.0\n",
      "MONTE CASEROS 4536.0\n",
      "MONTE CASEROS 4536.0\n",
      "MONTE CASEROS 4536.0\n",
      "MONTE CASEROS 4536.0\n",
      "ENRIQUE MONTES 4554.0\n",
      "GATO MONTES 1385.0\n",
      "MONTE CASEROS 4536.0\n",
      "MONTE CASEROS 4536.0\n",
      "MONTE CASEROS 4536.0\n",
      "DR JUSTO MONTES PAREJA 4553.0\n",
      "MONTE CASEROS 4536.0\n",
      "MONTE CASEROS 4536.0\n"
     ]
    }
   ],
   "source": [
    "for c in todos:\n",
    "    print c[u'properties'][u'NOM_CALLE'],c[u'properties'][u'COD_NOMBRE']"
   ]
  },
  {
   "cell_type": "code",
   "execution_count": 47,
   "metadata": {
    "collapsed": false
   },
   "outputs": [],
   "source": [
    "todos = findIntersection(3298,5956)"
   ]
  },
  {
   "cell_type": "code",
   "execution_count": 48,
   "metadata": {
    "collapsed": false
   },
   "outputs": [
    {
     "name": "stdout",
     "output_type": "stream",
     "text": [
      "{u'geometry': {u'type': u'Point', u'coordinates': [-56.27884664502937, -34.809330813703575]}, u'_id': ObjectId('57f587049d6c5bd84902d24e'), u'type': u'Feature', u'properties': {u'UCREA': u'usersig', u'COD_DEPTO': 1, u'NOM_CAL_01': u'CNO REY DEL MONTE', u'GID': 37779119.0, u'IDAUDITORI': None, u'FCREA': u'2016-09-19 03:15:01.235645', u'COD_NOM_01': 5956.0, u'UACT': u'usersig', u'COD_NOMBRE': 3298.0, u'FACT': u'2016-09-19 03:15:01.235645', u'NOM_CALLE_': u'CNO HAMILTON'}}\n",
      "{u'geometry': {u'type': u'Point', u'coordinates': [-56.27884664502937, -34.809330813703575]}, u'_id': ObjectId('57f58c868c14a791aa05cd29'), u'type': u'Feature', u'properties': {u'UCREA': u'usersig', u'COD_DEPTO': 1, u'NOM_CAL_01': u'CNO REY DEL MONTE', u'GID': 37779119.0, u'IDAUDITORI': None, u'FCREA': u'2016-09-19 03:15:01.235645', u'COD_NOM_01': 5956.0, u'UACT': u'usersig', u'COD_NOMBRE': 3298.0, u'FACT': u'2016-09-19 03:15:01.235645', u'NOM_CALLE_': u'CNO HAMILTON'}}\n",
      "{u'geometry': {u'type': u'Point', u'coordinates': [-56.27884664502937, -34.809330813703575]}, u'_id': ObjectId('57f58e91835b708777cd7ef8'), u'type': u'Feature', u'properties': {u'UCREA': u'usersig', u'COD_DEPTO': 1, u'NOM_CAL_01': u'CNO REY DEL MONTE', u'GID': 37779119.0, u'IDAUDITORI': None, u'FCREA': u'2016-09-19 03:15:01.235645', u'COD_NOM_01': 5956.0, u'UACT': u'usersig', u'COD_NOMBRE': 3298.0, u'FACT': u'2016-09-19 03:15:01.235645', u'NOM_CALLE_': u'CNO HAMILTON'}}\n"
     ]
    }
   ],
   "source": [
    "for c in todos:\n",
    "    print c"
   ]
  },
  {
   "cell_type": "code",
   "execution_count": null,
   "metadata": {
    "collapsed": true
   },
   "outputs": [],
   "source": []
  }
 ],
 "metadata": {
  "kernelspec": {
   "display_name": "Python 2",
   "language": "python",
   "name": "python2"
  },
  "language_info": {
   "codemirror_mode": {
    "name": "ipython",
    "version": 2
   },
   "file_extension": ".py",
   "mimetype": "text/x-python",
   "name": "python",
   "nbconvert_exporter": "python",
   "pygments_lexer": "ipython2",
   "version": "2.7.6"
  }
 },
 "nbformat": 4,
 "nbformat_minor": 0
}
